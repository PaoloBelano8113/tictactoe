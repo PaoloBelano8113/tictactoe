{
 "cells": [
  {
   "cell_type": "code",
   "execution_count": 1,
   "metadata": {},
   "outputs": [],
   "source": [
    "import re\n",
    "import pandas as pd\n",
    "import numpy as np\n",
    "from sklearn.model_selection import train_test_split\n",
    "from tensorflow.keras.models import Sequential\n",
    "from tensorflow.keras.layers import Dense"
   ]
  },
  {
   "cell_type": "code",
   "execution_count": 4,
   "metadata": {},
   "outputs": [],
   "source": [
    "df = pd.read_csv('D:/Portfolio/tictactoe/dataset/tictactoe_win_movement.csv')\n",
    "\n",
    "X = df['table']\n",
    "y = df['table_prob_choose']\n",
    "\n",
    "def parse_table_string(string):\n",
    "    numbers = re.findall(r'\\d+', string)\n",
    "    numbers = np.array(numbers, dtype=int)\n",
    "    return numbers\n",
    "\n",
    "X_converted = np.array([parse_table_string(x) for x in X]) \n",
    "y_converted = np.array([parse_table_string(y_val) for y_val in y]) \n",
    "\n",
    "X_flattened = np.array([x.flatten() for x in X_converted])  \n",
    "y_flattened = np.array([y.flatten() for y in y_converted])  \n",
    "\n",
    "\n",
    "X_train, X_test, y_train, y_test = train_test_split(X_flattened, y_flattened, test_size=0.2, random_state=42)\n",
    "\n",
    "y_train = np.array([np.argmax(y) for y in y_train])  \n",
    "y_test = np.array([np.argmax(y) for y in y_test]) "
   ]
  },
  {
   "cell_type": "code",
   "execution_count": 5,
   "metadata": {},
   "outputs": [
    {
     "name": "stderr",
     "output_type": "stream",
     "text": [
      "c:\\Users\\Paolo Belano\\AppData\\Local\\Programs\\Python\\Python311\\Lib\\site-packages\\keras\\src\\layers\\core\\dense.py:87: UserWarning: Do not pass an `input_shape`/`input_dim` argument to a layer. When using Sequential models, prefer using an `Input(shape)` object as the first layer in the model instead.\n",
      "  super().__init__(activity_regularizer=activity_regularizer, **kwargs)\n"
     ]
    }
   ],
   "source": [
    "model = Sequential()\n",
    "model.add(Dense(64, activation='relu', input_shape=(X_train.shape[1],)))\n",
    "model.add(Dense(64, activation='relu'))\n",
    "model.add(Dense(9, activation='softmax'))  "
   ]
  },
  {
   "cell_type": "code",
   "execution_count": 8,
   "metadata": {},
   "outputs": [
    {
     "name": "stdout",
     "output_type": "stream",
     "text": [
      "Epoch 1/50\n",
      "\u001b[1m7338/7338\u001b[0m \u001b[32m━━━━━━━━━━━━━━━━━━━━\u001b[0m\u001b[37m\u001b[0m \u001b[1m35s\u001b[0m 4ms/step - accuracy: 0.2513 - loss: 1.6249 - val_accuracy: 0.2498 - val_loss: 1.6221\n",
      "Epoch 2/50\n",
      "\u001b[1m7338/7338\u001b[0m \u001b[32m━━━━━━━━━━━━━━━━━━━━\u001b[0m\u001b[37m\u001b[0m \u001b[1m32s\u001b[0m 4ms/step - accuracy: 0.2538 - loss: 1.6221 - val_accuracy: 0.2535 - val_loss: 1.6186\n",
      "Epoch 3/50\n",
      "\u001b[1m7338/7338\u001b[0m \u001b[32m━━━━━━━━━━━━━━━━━━━━\u001b[0m\u001b[37m\u001b[0m \u001b[1m34s\u001b[0m 5ms/step - accuracy: 0.2552 - loss: 1.6126 - val_accuracy: 0.2501 - val_loss: 1.6054\n",
      "Epoch 4/50\n",
      "\u001b[1m7338/7338\u001b[0m \u001b[32m━━━━━━━━━━━━━━━━━━━━\u001b[0m\u001b[37m\u001b[0m \u001b[1m34s\u001b[0m 5ms/step - accuracy: 0.2562 - loss: 1.6010 - val_accuracy: 0.2540 - val_loss: 1.5968\n",
      "Epoch 5/50\n",
      "\u001b[1m7338/7338\u001b[0m \u001b[32m━━━━━━━━━━━━━━━━━━━━\u001b[0m\u001b[37m\u001b[0m \u001b[1m33s\u001b[0m 5ms/step - accuracy: 0.2564 - loss: 1.5961 - val_accuracy: 0.2567 - val_loss: 1.5951\n",
      "Epoch 6/50\n",
      "\u001b[1m7338/7338\u001b[0m \u001b[32m━━━━━━━━━━━━━━━━━━━━\u001b[0m\u001b[37m\u001b[0m \u001b[1m35s\u001b[0m 5ms/step - accuracy: 0.2602 - loss: 1.5927 - val_accuracy: 0.2579 - val_loss: 1.5926\n",
      "Epoch 7/50\n",
      "\u001b[1m7338/7338\u001b[0m \u001b[32m━━━━━━━━━━━━━━━━━━━━\u001b[0m\u001b[37m\u001b[0m \u001b[1m35s\u001b[0m 5ms/step - accuracy: 0.2581 - loss: 1.5937 - val_accuracy: 0.2590 - val_loss: 1.5941\n",
      "Epoch 8/50\n",
      "\u001b[1m7338/7338\u001b[0m \u001b[32m━━━━━━━━━━━━━━━━━━━━\u001b[0m\u001b[37m\u001b[0m \u001b[1m34s\u001b[0m 5ms/step - accuracy: 0.2623 - loss: 1.5920 - val_accuracy: 0.2599 - val_loss: 1.5909\n",
      "Epoch 9/50\n",
      "\u001b[1m7338/7338\u001b[0m \u001b[32m━━━━━━━━━━━━━━━━━━━━\u001b[0m\u001b[37m\u001b[0m \u001b[1m35s\u001b[0m 5ms/step - accuracy: 0.2671 - loss: 1.5882 - val_accuracy: 0.2626 - val_loss: 1.5907\n",
      "Epoch 10/50\n",
      "\u001b[1m7338/7338\u001b[0m \u001b[32m━━━━━━━━━━━━━━━━━━━━\u001b[0m\u001b[37m\u001b[0m \u001b[1m34s\u001b[0m 5ms/step - accuracy: 0.2684 - loss: 1.5896 - val_accuracy: 0.2623 - val_loss: 1.5915\n",
      "Epoch 11/50\n",
      "\u001b[1m7338/7338\u001b[0m \u001b[32m━━━━━━━━━━━━━━━━━━━━\u001b[0m\u001b[37m\u001b[0m \u001b[1m44s\u001b[0m 5ms/step - accuracy: 0.2679 - loss: 1.5883 - val_accuracy: 0.2596 - val_loss: 1.5905\n",
      "Epoch 12/50\n",
      "\u001b[1m7338/7338\u001b[0m \u001b[32m━━━━━━━━━━━━━━━━━━━━\u001b[0m\u001b[37m\u001b[0m \u001b[1m39s\u001b[0m 5ms/step - accuracy: 0.2705 - loss: 1.5885 - val_accuracy: 0.2605 - val_loss: 1.5928\n",
      "Epoch 13/50\n",
      "\u001b[1m7338/7338\u001b[0m \u001b[32m━━━━━━━━━━━━━━━━━━━━\u001b[0m\u001b[37m\u001b[0m \u001b[1m38s\u001b[0m 5ms/step - accuracy: 0.2710 - loss: 1.5871 - val_accuracy: 0.2656 - val_loss: 1.5897\n",
      "Epoch 14/50\n",
      "\u001b[1m7338/7338\u001b[0m \u001b[32m━━━━━━━━━━━━━━━━━━━━\u001b[0m\u001b[37m\u001b[0m \u001b[1m37s\u001b[0m 5ms/step - accuracy: 0.2732 - loss: 1.5875 - val_accuracy: 0.2651 - val_loss: 1.5885\n",
      "Epoch 15/50\n",
      "\u001b[1m7338/7338\u001b[0m \u001b[32m━━━━━━━━━━━━━━━━━━━━\u001b[0m\u001b[37m\u001b[0m \u001b[1m34s\u001b[0m 5ms/step - accuracy: 0.2745 - loss: 1.5846 - val_accuracy: 0.2680 - val_loss: 1.5881\n",
      "Epoch 16/50\n",
      "\u001b[1m7338/7338\u001b[0m \u001b[32m━━━━━━━━━━━━━━━━━━━━\u001b[0m\u001b[37m\u001b[0m \u001b[1m34s\u001b[0m 5ms/step - accuracy: 0.2748 - loss: 1.5874 - val_accuracy: 0.2674 - val_loss: 1.5896\n",
      "Epoch 17/50\n",
      "\u001b[1m7338/7338\u001b[0m \u001b[32m━━━━━━━━━━━━━━━━━━━━\u001b[0m\u001b[37m\u001b[0m \u001b[1m35s\u001b[0m 5ms/step - accuracy: 0.2737 - loss: 1.5857 - val_accuracy: 0.2702 - val_loss: 1.5872\n",
      "Epoch 18/50\n",
      "\u001b[1m7338/7338\u001b[0m \u001b[32m━━━━━━━━━━━━━━━━━━━━\u001b[0m\u001b[37m\u001b[0m \u001b[1m34s\u001b[0m 5ms/step - accuracy: 0.2789 - loss: 1.5830 - val_accuracy: 0.2682 - val_loss: 1.5873\n",
      "Epoch 19/50\n",
      "\u001b[1m7338/7338\u001b[0m \u001b[32m━━━━━━━━━━━━━━━━━━━━\u001b[0m\u001b[37m\u001b[0m \u001b[1m38s\u001b[0m 5ms/step - accuracy: 0.2778 - loss: 1.5834 - val_accuracy: 0.2657 - val_loss: 1.5882\n",
      "Epoch 20/50\n",
      "\u001b[1m7338/7338\u001b[0m \u001b[32m━━━━━━━━━━━━━━━━━━━━\u001b[0m\u001b[37m\u001b[0m \u001b[1m34s\u001b[0m 5ms/step - accuracy: 0.2779 - loss: 1.5793 - val_accuracy: 0.2684 - val_loss: 1.5859\n",
      "Epoch 21/50\n",
      "\u001b[1m7338/7338\u001b[0m \u001b[32m━━━━━━━━━━━━━━━━━━━━\u001b[0m\u001b[37m\u001b[0m \u001b[1m36s\u001b[0m 5ms/step - accuracy: 0.2792 - loss: 1.5829 - val_accuracy: 0.2698 - val_loss: 1.5863\n",
      "Epoch 22/50\n",
      "\u001b[1m7338/7338\u001b[0m \u001b[32m━━━━━━━━━━━━━━━━━━━━\u001b[0m\u001b[37m\u001b[0m \u001b[1m33s\u001b[0m 4ms/step - accuracy: 0.2781 - loss: 1.5813 - val_accuracy: 0.2707 - val_loss: 1.5872\n",
      "Epoch 23/50\n",
      "\u001b[1m7338/7338\u001b[0m \u001b[32m━━━━━━━━━━━━━━━━━━━━\u001b[0m\u001b[37m\u001b[0m \u001b[1m38s\u001b[0m 5ms/step - accuracy: 0.2805 - loss: 1.5777 - val_accuracy: 0.2694 - val_loss: 1.5869\n",
      "Epoch 24/50\n",
      "\u001b[1m7338/7338\u001b[0m \u001b[32m━━━━━━━━━━━━━━━━━━━━\u001b[0m\u001b[37m\u001b[0m \u001b[1m35s\u001b[0m 5ms/step - accuracy: 0.2799 - loss: 1.5807 - val_accuracy: 0.2703 - val_loss: 1.5853\n",
      "Epoch 25/50\n",
      "\u001b[1m7338/7338\u001b[0m \u001b[32m━━━━━━━━━━━━━━━━━━━━\u001b[0m\u001b[37m\u001b[0m \u001b[1m44s\u001b[0m 5ms/step - accuracy: 0.2815 - loss: 1.5794 - val_accuracy: 0.2679 - val_loss: 1.5870\n",
      "Epoch 26/50\n",
      "\u001b[1m7338/7338\u001b[0m \u001b[32m━━━━━━━━━━━━━━━━━━━━\u001b[0m\u001b[37m\u001b[0m \u001b[1m36s\u001b[0m 5ms/step - accuracy: 0.2804 - loss: 1.5786 - val_accuracy: 0.2715 - val_loss: 1.5832\n",
      "Epoch 27/50\n",
      "\u001b[1m7338/7338\u001b[0m \u001b[32m━━━━━━━━━━━━━━━━━━━━\u001b[0m\u001b[37m\u001b[0m \u001b[1m34s\u001b[0m 5ms/step - accuracy: 0.2824 - loss: 1.5790 - val_accuracy: 0.2705 - val_loss: 1.5844\n",
      "Epoch 28/50\n",
      "\u001b[1m7338/7338\u001b[0m \u001b[32m━━━━━━━━━━━━━━━━━━━━\u001b[0m\u001b[37m\u001b[0m \u001b[1m34s\u001b[0m 5ms/step - accuracy: 0.2826 - loss: 1.5770 - val_accuracy: 0.2721 - val_loss: 1.5843\n",
      "Epoch 29/50\n",
      "\u001b[1m7338/7338\u001b[0m \u001b[32m━━━━━━━━━━━━━━━━━━━━\u001b[0m\u001b[37m\u001b[0m \u001b[1m31s\u001b[0m 4ms/step - accuracy: 0.2839 - loss: 1.5774 - val_accuracy: 0.2711 - val_loss: 1.5836\n",
      "Epoch 30/50\n",
      "\u001b[1m7338/7338\u001b[0m \u001b[32m━━━━━━━━━━━━━━━━━━━━\u001b[0m\u001b[37m\u001b[0m \u001b[1m45s\u001b[0m 5ms/step - accuracy: 0.2831 - loss: 1.5775 - val_accuracy: 0.2710 - val_loss: 1.5843\n",
      "Epoch 31/50\n",
      "\u001b[1m7338/7338\u001b[0m \u001b[32m━━━━━━━━━━━━━━━━━━━━\u001b[0m\u001b[37m\u001b[0m \u001b[1m35s\u001b[0m 5ms/step - accuracy: 0.2838 - loss: 1.5756 - val_accuracy: 0.2706 - val_loss: 1.5834\n",
      "Epoch 32/50\n",
      "\u001b[1m7338/7338\u001b[0m \u001b[32m━━━━━━━━━━━━━━━━━━━━\u001b[0m\u001b[37m\u001b[0m \u001b[1m34s\u001b[0m 5ms/step - accuracy: 0.2840 - loss: 1.5741 - val_accuracy: 0.2711 - val_loss: 1.5855\n",
      "Epoch 33/50\n",
      "\u001b[1m7338/7338\u001b[0m \u001b[32m━━━━━━━━━━━━━━━━━━━━\u001b[0m\u001b[37m\u001b[0m \u001b[1m35s\u001b[0m 5ms/step - accuracy: 0.2862 - loss: 1.5736 - val_accuracy: 0.2727 - val_loss: 1.5818\n",
      "Epoch 34/50\n",
      "\u001b[1m7338/7338\u001b[0m \u001b[32m━━━━━━━━━━━━━━━━━━━━\u001b[0m\u001b[37m\u001b[0m \u001b[1m38s\u001b[0m 5ms/step - accuracy: 0.2836 - loss: 1.5756 - val_accuracy: 0.2734 - val_loss: 1.5821\n",
      "Epoch 35/50\n",
      "\u001b[1m7338/7338\u001b[0m \u001b[32m━━━━━━━━━━━━━━━━━━━━\u001b[0m\u001b[37m\u001b[0m \u001b[1m32s\u001b[0m 4ms/step - accuracy: 0.2840 - loss: 1.5765 - val_accuracy: 0.2730 - val_loss: 1.5806\n",
      "Epoch 36/50\n",
      "\u001b[1m7338/7338\u001b[0m \u001b[32m━━━━━━━━━━━━━━━━━━━━\u001b[0m\u001b[37m\u001b[0m \u001b[1m31s\u001b[0m 4ms/step - accuracy: 0.2851 - loss: 1.5749 - val_accuracy: 0.2722 - val_loss: 1.5812\n",
      "Epoch 37/50\n",
      "\u001b[1m7338/7338\u001b[0m \u001b[32m━━━━━━━━━━━━━━━━━━━━\u001b[0m\u001b[37m\u001b[0m \u001b[1m30s\u001b[0m 4ms/step - accuracy: 0.2834 - loss: 1.5747 - val_accuracy: 0.2745 - val_loss: 1.5816\n",
      "Epoch 38/50\n",
      "\u001b[1m7338/7338\u001b[0m \u001b[32m━━━━━━━━━━━━━━━━━━━━\u001b[0m\u001b[37m\u001b[0m \u001b[1m31s\u001b[0m 4ms/step - accuracy: 0.2868 - loss: 1.5731 - val_accuracy: 0.2739 - val_loss: 1.5805\n",
      "Epoch 39/50\n",
      "\u001b[1m7338/7338\u001b[0m \u001b[32m━━━━━━━━━━━━━━━━━━━━\u001b[0m\u001b[37m\u001b[0m \u001b[1m31s\u001b[0m 4ms/step - accuracy: 0.2860 - loss: 1.5728 - val_accuracy: 0.2747 - val_loss: 1.5803\n",
      "Epoch 40/50\n",
      "\u001b[1m7338/7338\u001b[0m \u001b[32m━━━━━━━━━━━━━━━━━━━━\u001b[0m\u001b[37m\u001b[0m \u001b[1m31s\u001b[0m 4ms/step - accuracy: 0.2873 - loss: 1.5721 - val_accuracy: 0.2740 - val_loss: 1.5803\n",
      "Epoch 41/50\n",
      "\u001b[1m7338/7338\u001b[0m \u001b[32m━━━━━━━━━━━━━━━━━━━━\u001b[0m\u001b[37m\u001b[0m \u001b[1m30s\u001b[0m 4ms/step - accuracy: 0.2854 - loss: 1.5739 - val_accuracy: 0.2748 - val_loss: 1.5823\n",
      "Epoch 42/50\n",
      "\u001b[1m7338/7338\u001b[0m \u001b[32m━━━━━━━━━━━━━━━━━━━━\u001b[0m\u001b[37m\u001b[0m \u001b[1m32s\u001b[0m 4ms/step - accuracy: 0.2849 - loss: 1.5736 - val_accuracy: 0.2742 - val_loss: 1.5795\n",
      "Epoch 43/50\n",
      "\u001b[1m7338/7338\u001b[0m \u001b[32m━━━━━━━━━━━━━━━━━━━━\u001b[0m\u001b[37m\u001b[0m \u001b[1m33s\u001b[0m 4ms/step - accuracy: 0.2860 - loss: 1.5710 - val_accuracy: 0.2740 - val_loss: 1.5812\n",
      "Epoch 44/50\n",
      "\u001b[1m7338/7338\u001b[0m \u001b[32m━━━━━━━━━━━━━━━━━━━━\u001b[0m\u001b[37m\u001b[0m \u001b[1m29s\u001b[0m 4ms/step - accuracy: 0.2857 - loss: 1.5734 - val_accuracy: 0.2728 - val_loss: 1.5821\n",
      "Epoch 45/50\n",
      "\u001b[1m7338/7338\u001b[0m \u001b[32m━━━━━━━━━━━━━━━━━━━━\u001b[0m\u001b[37m\u001b[0m \u001b[1m32s\u001b[0m 4ms/step - accuracy: 0.2880 - loss: 1.5710 - val_accuracy: 0.2759 - val_loss: 1.5827\n",
      "Epoch 46/50\n",
      "\u001b[1m7338/7338\u001b[0m \u001b[32m━━━━━━━━━━━━━━━━━━━━\u001b[0m\u001b[37m\u001b[0m \u001b[1m32s\u001b[0m 4ms/step - accuracy: 0.2870 - loss: 1.5712 - val_accuracy: 0.2752 - val_loss: 1.5806\n",
      "Epoch 47/50\n",
      "\u001b[1m7338/7338\u001b[0m \u001b[32m━━━━━━━━━━━━━━━━━━━━\u001b[0m\u001b[37m\u001b[0m \u001b[1m41s\u001b[0m 4ms/step - accuracy: 0.2880 - loss: 1.5692 - val_accuracy: 0.2748 - val_loss: 1.5808\n",
      "Epoch 48/50\n",
      "\u001b[1m7338/7338\u001b[0m \u001b[32m━━━━━━━━━━━━━━━━━━━━\u001b[0m\u001b[37m\u001b[0m \u001b[1m37s\u001b[0m 5ms/step - accuracy: 0.2871 - loss: 1.5718 - val_accuracy: 0.2755 - val_loss: 1.5798\n",
      "Epoch 49/50\n",
      "\u001b[1m7338/7338\u001b[0m \u001b[32m━━━━━━━━━━━━━━━━━━━━\u001b[0m\u001b[37m\u001b[0m \u001b[1m38s\u001b[0m 5ms/step - accuracy: 0.2869 - loss: 1.5684 - val_accuracy: 0.2748 - val_loss: 1.5786\n",
      "Epoch 50/50\n",
      "\u001b[1m7338/7338\u001b[0m \u001b[32m━━━━━━━━━━━━━━━━━━━━\u001b[0m\u001b[37m\u001b[0m \u001b[1m45s\u001b[0m 6ms/step - accuracy: 0.2878 - loss: 1.5710 - val_accuracy: 0.2751 - val_loss: 1.5791\n",
      "\u001b[1m2293/2293\u001b[0m \u001b[32m━━━━━━━━━━━━━━━━━━━━\u001b[0m\u001b[37m\u001b[0m \u001b[1m10s\u001b[0m 4ms/step - accuracy: 0.2774 - loss: 1.5755\n",
      "Model accuracy: 0.27597954869270325\n"
     ]
    }
   ],
   "source": [
    "\n",
    "model.compile(optimizer='adam', loss='sparse_categorical_crossentropy', metrics=['accuracy'])\n",
    "\n",
    "model.fit(X_train, y_train, epochs=50, batch_size=32, validation_split=0.2)\n",
    "\n",
    "accuracy = model.evaluate(X_test, y_test)\n",
    "print(\"Model accuracy:\", accuracy[1])"
   ]
  },
  {
   "cell_type": "code",
   "execution_count": 9,
   "metadata": {},
   "outputs": [
    {
     "name": "stderr",
     "output_type": "stream",
     "text": [
      "WARNING:absl:You are saving your model as an HDF5 file via `model.save()` or `keras.saving.save_model(model)`. This file format is considered legacy. We recommend using instead the native Keras format, e.g. `model.save('my_model.keras')` or `keras.saving.save_model(model, 'my_model.keras')`. \n"
     ]
    }
   ],
   "source": [
    "model.save('D:/Portfolio/tictactoe/toetactic_alpha.h5')"
   ]
  }
 ],
 "metadata": {
  "kernelspec": {
   "display_name": "Python 3",
   "language": "python",
   "name": "python3"
  },
  "language_info": {
   "codemirror_mode": {
    "name": "ipython",
    "version": 3
   },
   "file_extension": ".py",
   "mimetype": "text/x-python",
   "name": "python",
   "nbconvert_exporter": "python",
   "pygments_lexer": "ipython3",
   "version": "3.11.1"
  }
 },
 "nbformat": 4,
 "nbformat_minor": 2
}
